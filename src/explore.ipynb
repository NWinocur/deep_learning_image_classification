{
    "cells": [
        {
            "cell_type": "markdown",
            "metadata": {},
            "source": [
                "# Explore here\n"
            ]
        },
        {
            "cell_type": "code",
            "execution_count": null,
            "metadata": {},
            "outputs": [],
            "source": [
                "import pandas as pd\n",
                "from sklearn.model_selection import train_test_split\n",
                "from tensorflow.keras.layers import Dense\n",
                "from tensorflow.keras.models import Sequential\n",
                "from tensorflow.keras.utils import set_random_seed\n",
                "from sklearn.metrics import accuracy_score\n"
            ]
        },
        {
            "cell_type": "code",
            "execution_count": null,
            "metadata": {},
            "outputs": [],
            "source": [
                "IMAGE_SIZE = 200\n",
                "TRAIN_DIR = '/data/raw/train/'\n",
                "TEST_DIR  = '/data/raw/test1/'"
            ]
        },
        {
            "cell_type": "code",
            "execution_count": null,
            "metadata": {},
            "outputs": [],
            "source": [
                "import os\n",
                "import numpy as np\n",
                "import cv2\n",
                "import pandas as pd\n",
                "from tqdm import tqdm\n",
                "from sklearn.model_selection import train_test_split\n",
                "from tensorflow.keras.utils import to_categorical\n",
                "\n",
                "# Load filenames and labels\n",
                "\n",
                "filenames = os.listdir(TRAIN_DIR)\n",
                "labels = [0 if fname.startswith('dog') else 1 for fname in filenames]\n",
                "\n",
                "# Initialize arrays\n",
                "\n",
                "images = []\n",
                "for fname in tqdm(filenames, desc=\"Loading images\"):\n",
                "    path = os.path.join(TRAIN_DIR, fname)\n",
                "    img = cv2.imread(path)\n",
                "    img = cv2.resize(img, (IMAGE_SIZE, IMAGE_SIZE))\n",
                "    img = img / 255.0 # Normalize to [0, 1]\n",
                "    images.append(img)\n",
                "\n",
                "# Convert to NumPy arrays\n",
                "\n",
                "X = np.array(images)\n",
                "y = to_categorical(np.array(labels), num_classes=2)\n"
            ]
        },
        {
            "cell_type": "code",
            "execution_count": null,
            "metadata": {},
            "outputs": [],
            "source": [
                "X_train, X_val, y_train, y_val = train_test_split(X, y, test_size=0.2, random_state=42, stratify=y)\n"
            ]
        },
        {
            "cell_type": "code",
            "execution_count": null,
            "metadata": {},
            "outputs": [],
            "source": [
                "import matplotlib.pyplot as plt\n",
                "\n",
                "fig, axes = plt.subplots(3, 3, figsize=(8, 8))\n",
                "for i, ax in enumerate(axes.flat):\n",
                "    ax.imshow(X_train[i])\n",
                "    ax.set_title(\"Dog\" if np.argmax(y_train[i]) == 0 else \"Cat\")\n",
                "    ax.axis(\"off\")\n",
                "plt.tight_layout()\n",
                "plt.show()\n"
            ]
        },
        {
            "cell_type": "code",
            "execution_count": null,
            "metadata": {},
            "outputs": [],
            "source": [
                "from tensorflow.keras.layers import Flatten\n",
                "from tensorflow.keras.models import Sequential\n",
                "from tensorflow.keras.layers import Dense\n",
                "\n",
                "set_random_seed(42)\n",
                "\n",
                "model = Sequential([\n",
                "  # Layer that flattens the input image to a vector of 784 elements\n",
                "  Flatten(input_shape = (28, 28)),\n",
                "  # Dense hidden layer with 128 neurons and ReLU activation function\n",
                "  Dense(128, activation = \"relu\"),\n",
                "  # Output layer with 2 neurons (one for each category, 0 for dog, 1 for cat)\n",
                "  Dense(2)\n",
                "])"
            ]
        },
        {
            "cell_type": "code",
            "execution_count": null,
            "metadata": {},
            "outputs": [],
            "source": [
                "\n",
                "set_random_seed(42)\n",
                "\n",
                "# Load the dataset\n",
                "df = pd.read_csv('data/raw/dogs-vs-cats.csv')\n",
                "\n",
                "# Split the dataset into training and testing sets\n",
                "X_train, X_test, y_train, y_test = train_test_split(df['image'], df['label'], test_size=0.2, random_state=42)\n",
                "\n",
                "# Create the model\n",
                "model = Sequential()\n",
                "model.add(Dense(64, activation='relu', input_shape=(X_train.shape[1],)))\n",
                "model.add(Dense(64, activation='relu'))\n",
                "model.add(Dense(1, activation='sigmoid'))\n",
                "\n",
                "# Compile the model\n",
                "model.compile(optimizer='adam', loss='binary_crossentropy', metrics=['accuracy'])\n",
                "\n",
                "# Train the model\n",
                "model.fit(X_train, y_train, epochs=10, batch_size=32)\n",
                "\n",
                "# Evaluate the model\n",
                "y_pred = model.predict(X_test)\n",
                "y_pred = (y_pred > 0.5).astype(int)\n",
                "accuracy = accuracy_score(y_test, y_pred)\n",
                "print('Accuracy:', accuracy)\n"
            ]
        },
        {
            "cell_type": "code",
            "execution_count": null,
            "metadata": {},
            "outputs": [],
            "source": []
        }
    ],
    "metadata": {
        "kernelspec": {
            "display_name": "Python 3.8.13 64-bit ('3.8.13')",
            "language": "python",
            "name": "python3"
        },
        "language_info": {
            "codemirror_mode": {
                "name": "ipython",
                "version": 3
            },
            "file_extension": ".py",
            "mimetype": "text/x-python",
            "name": "python",
            "nbconvert_exporter": "python",
            "pygments_lexer": "ipython3",
            "version": "3.8.13"
        },
        "orig_nbformat": 4,
        "vscode": {
            "interpreter": {
                "hash": "110cc1dee26208153f2972f08a2ad52b6a56238dc66d48e87fb757ef2996db56"
            }
        }
    },
    "nbformat": 4,
    "nbformat_minor": 2
}
